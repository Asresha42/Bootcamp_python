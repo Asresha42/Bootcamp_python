{
 "cells": [
  {
   "cell_type": "code",
   "execution_count": 22,
   "metadata": {},
   "outputs": [
    {
     "name": "stdout",
     "output_type": "stream",
     "text": [
      "x = 12 y = 3.99 z = asha\n"
     ]
    }
   ],
   "source": [
    "#Create three variables in a single a line and assign different values to them and make sure their data types are different. Like one is int, another one is float and the last one is a string.\n",
    "\n",
    "x = 12\n",
    "y = 3.99\n",
    "z = 'asha'\n",
    "print(\"x =\",x,\"y =\",y,\"z =\",z)\n",
    "\n"
   ]
  },
  {
   "cell_type": "code",
   "execution_count": 23,
   "metadata": {},
   "outputs": [
    {
     "name": "stdout",
     "output_type": "stream",
     "text": [
      "x = 10 y = (12+0j)\n"
     ]
    }
   ],
   "source": [
    "#Create a variable of value type complex and swap it with another variable whose value is an integer.\n",
    "\n",
    "a = 12\n",
    "y = 10\n",
    "x = complex(a)\n",
    "x,y=y,x\n",
    "print(\"x =\",x,\"y =\",y)\n"
   ]
  },
  {
   "cell_type": "code",
   "execution_count": 24,
   "metadata": {},
   "outputs": [
    {
     "name": "stdout",
     "output_type": "stream",
     "text": [
      "x = 5 y = 10 z = 15\n",
      "x = 5 y = 10\n"
     ]
    }
   ],
   "source": [
    "#Swap two numbers using the third variable as the result name and do the same task without using any third variable.\n",
    "\n",
    "x = 10\n",
    "y = 5\n",
    "x,y,z= y,x,z\n",
    "z = x + y\n",
    "print(\"x =\",x,\"y =\",y,\"z =\",z)\n",
    "print(\"x =\",x,\"y =\",y)"
   ]
  },
  {
   "cell_type": "code",
   "execution_count": 25,
   "metadata": {},
   "outputs": [
    {
     "name": "stdout",
     "output_type": "stream",
     "text": [
      "Enter your name: Asha\n",
      "Asha\n"
     ]
    }
   ],
   "source": [
    "#Write a program to print the value given by the user by using both Python 2.x and Python 3.x Version.\n",
    "\n",
    "\n",
    "a= input(\"Enter your name: \")\n",
    "print(a)\n",
    "\n"
   ]
  },
  {
   "cell_type": "code",
   "execution_count": 1,
   "metadata": {},
   "outputs": [
    {
     "name": "stdout",
     "output_type": "stream",
     "text": [
      "Enter value 1 between 1 to 10: 1\n",
      "Enter value 2 between 1 to 10: 5\n",
      "Result: 6\n",
      "Result: 36\n"
     ]
    }
   ],
   "source": [
    "# 5.Write a program to complete the task given below:\n",
    "# Ask the user to enter any 2 numbers in between 1-10 and add both of them to another variable call z.\n",
    "# Use z for adding 30 into it and print the final result by using variable result.\n",
    "\n",
    "a= input(\"Enter value 1 between 1 to 10: \")\n",
    "b= input(\"Enter value 2 between 1 to 10: \")\n",
    "c = int(a) + int(b)\n",
    "print(\"Result:\", c)\n",
    "z = 30\n",
    "print(\"Result:\", c + z)\n"
   ]
  },
  {
   "cell_type": "code",
   "execution_count": null,
   "metadata": {},
   "outputs": [],
   "source": [
    "# 6.Write a program to check the data type of the entered values. HINT: Printed output should say -  The input value data type is: int/float/string/etc\n",
    "\n",
    "x = 3\n",
    "y = 4.3\n",
    "z = \"Consultadd\"\n",
    "\n",
    "print(\"The input data type is:\", type(x), type(y), type(z))\n",
    "\n"
   ]
  },
  {
   "cell_type": "code",
   "execution_count": null,
   "metadata": {},
   "outputs": [],
   "source": [
    "# 7. If one data type value is assigned to ‘a’ variable and then a different data type value is assigned to ‘a’ again. Will it change the value. If Yes then Why?\n",
    "\n",
    "Yes it will change because variables can be re-declared even after you have declared them for once.\n"
   ]
  },
  {
   "cell_type": "code",
   "execution_count": 7,
   "metadata": {},
   "outputs": [
    {
     "name": "stdout",
     "output_type": "stream",
     "text": [
      "Enter a value:5\n",
      "c\n"
     ]
    }
   ],
   "source": [
    "# 1.Write a program in Python to perform the following operation:\n",
    "# If a number is divisible by 3 it should print “Consultadd” as a string\n",
    "# If a number is divisible by 5 it should print “c” as a string\n",
    "# If a number is divisible by both 3 and 5 it should print “Consultadd Python Training” as a string.\n",
    "\n",
    "a= int(input(\"Enter a value:\"))\n",
    "if(a%3==0 and a%5!=0):\n",
    "    print(\"Consultadd\")\n",
    "    \n",
    "elif(a%5==0 and a%3!=0):\n",
    "    print(\"c\")\n",
    "\n",
    "elif(a%3==0 and a%5==0):\n",
    "    print(\"Consultadd Python Training\")\n",
    " "
   ]
  },
  {
   "cell_type": "code",
   "execution_count": null,
   "metadata": {},
   "outputs": [],
   "source": [
    "# 2 Write a program in Python to perform the following operator based task:\n",
    "# Ask user to choose the following option first:\n",
    "# If User Enter 1 - Addition \n",
    "# If User Enter 2 - Subtraction\n",
    "# If User Enter 3 - Division\n",
    "# If USer Enter 4 - Multiplication\n",
    "# If User Enter 5 - Average\n",
    "# Ask user to enter the 2 numbers in a variable for first and second for the first 4 options mentioned above.\n",
    "# Ask user to enter two more numbers as first1 and second2 for calculating the average as soon as user choose an option 5.\n",
    "# At the end if the answer of any operation is Negative print a statement saying “zsa”\n",
    "# NOTE: At a time user can perform one action at a time.\n",
    "\n",
    "\n",
    "result = int(input(\"Enter 1-addtion, 2-subtraction, 3-divsion, 4-multiplication 5-average:\"))\n",
    "\n",
    "if result == 1 or result == 2 or result == 3 or result == 4:\n",
    "    a = int(input(\"Enter any value1:\"))\n",
    "    b = int(input(\"Enter any value2: \"))\n",
    "\n",
    "    if result == 1:\n",
    "        c = a + b\n",
    "    elif result == 2:\n",
    "        c = a - b\n",
    "    elif result == 3:\n",
    "        c = a % b\n",
    "    elif result == 4:\n",
    "        c = a * b\n",
    "    print(\"Total\", c)\n",
    "\n",
    "elif result == 5:\n",
    "    c = []\n",
    "    e = int(input(\"how many numbers do you want to enter?\"))\n",
    "    for i in range(0, e):\n",
    "        f = int(input())\n",
    "        c.append(f)\n",
    "    print(\"Average:\", sum(c) / len(c))\n",
    "if c < 0:\n",
    "    print(\"zsa\")\n"
   ]
  },
  {
   "cell_type": "code",
   "execution_count": 1,
   "metadata": {},
   "outputs": [
    {
     "name": "stdout",
     "output_type": "stream",
     "text": [
      "Enter the value a: 3\n",
      "Enter the value b: 4\n",
      "Enter the value c: 5\n",
      "The avg is greater than a \n",
      "average- 4.0\n"
     ]
    }
   ],
   "source": [
    "# 3.Write a program in Python to implement the given flowchart:\n",
    "\n",
    "a = int(input(\"Enter the value a: \"))\n",
    "b = int(input(\"Enter the value b: \"))\n",
    "c = int(input(\"Enter the value c: \"))\n",
    "\n",
    "avg = (a + b + c) / 3\n",
    "\n",
    "if avg > a and avg > b and avg > c:\n",
    "    print(\"The avg is greater than a, b, c \")\n",
    "elif avg > a and avg > b:\n",
    "    print(\"The avg is greater than a and b \")\n",
    "elif avg > a and avg > c:\n",
    "    print(\"The avg is greater than a and c \")\n",
    "elif avg > b and avg > c:\n",
    "    print(\"The avg is greater than b and c: \")\n",
    "elif avg > a:\n",
    "    print(\"The avg is greater than a \")\n",
    "elif avg > b:\n",
    "    print(\"The avg is greater than b \")\n",
    "elif avg > c:\n",
    "    print(\"The avg is greater than c \")\n",
    "print(\"average: \", avg)"
   ]
  },
  {
   "cell_type": "code",
   "execution_count": 3,
   "metadata": {},
   "outputs": [
    {
     "name": "stdout",
     "output_type": "stream",
     "text": [
      "Enter a value: 4\n",
      "Good going\n",
      "Enter a value: 5\n",
      "Good going\n",
      "Enter a value: 6\n",
      "Good going\n",
      "Enter a value: 7\n",
      "Good going\n",
      "Enter a value: 7\n",
      "Good going\n",
      "Enter a value: 0\n",
      "Its over\n"
     ]
    }
   ],
   "source": [
    "# Write a program in Python to break and continue if the following cases occurs:\n",
    "# If user enters a negative number just break the loop and print “It’s Over”\n",
    "# If user enters a positive number just continue in the loop and print “Good Going”\n",
    "\n",
    "a = 1\n",
    "while a > 0:\n",
    "    a = int(input(\"Enter a value: \"))\n",
    "    if a < 0:\n",
    "        break\n",
    "    elif a > 0:\n",
    "        print(\"Good going\")\n",
    "print('Its over')\n"
   ]
  },
  {
   "cell_type": "code",
   "execution_count": 1,
   "metadata": {},
   "outputs": [
    {
     "name": "stdout",
     "output_type": "stream",
     "text": [
      "2002\n",
      "2009\n",
      "2016\n",
      "2023\n",
      "2037\n",
      "2044\n",
      "2051\n",
      "2058\n",
      "2072\n",
      "2079\n",
      "2086\n",
      "2093\n",
      "2107\n",
      "2114\n",
      "2121\n",
      "2128\n",
      "2142\n",
      "2149\n",
      "2156\n",
      "2163\n",
      "2177\n",
      "2184\n",
      "2191\n",
      "2198\n",
      "2212\n",
      "2219\n",
      "2226\n",
      "2233\n",
      "2247\n",
      "2254\n",
      "2261\n",
      "2268\n",
      "2282\n",
      "2289\n",
      "2296\n",
      "2303\n",
      "2317\n",
      "2324\n",
      "2331\n",
      "2338\n",
      "2352\n",
      "2359\n",
      "2366\n",
      "2373\n",
      "2387\n",
      "2394\n",
      "2401\n",
      "2408\n",
      "2422\n",
      "2429\n",
      "2436\n",
      "2443\n",
      "2457\n",
      "2464\n",
      "2471\n",
      "2478\n",
      "2492\n",
      "2499\n",
      "2506\n",
      "2513\n",
      "2527\n",
      "2534\n",
      "2541\n",
      "2548\n",
      "2562\n",
      "2569\n",
      "2576\n",
      "2583\n",
      "2597\n",
      "2604\n",
      "2611\n",
      "2618\n",
      "2632\n",
      "2639\n",
      "2646\n",
      "2653\n",
      "2667\n",
      "2674\n",
      "2681\n",
      "2688\n",
      "2702\n",
      "2709\n",
      "2716\n",
      "2723\n",
      "2737\n",
      "2744\n",
      "2751\n",
      "2758\n",
      "2772\n",
      "2779\n",
      "2786\n",
      "2793\n",
      "2807\n",
      "2814\n",
      "2821\n",
      "2828\n",
      "2842\n",
      "2849\n",
      "2856\n",
      "2863\n",
      "2877\n",
      "2884\n",
      "2891\n",
      "2898\n",
      "2912\n",
      "2919\n",
      "2926\n",
      "2933\n",
      "2947\n",
      "2954\n",
      "2961\n",
      "2968\n",
      "2982\n",
      "2989\n",
      "2996\n",
      "3003\n",
      "3017\n",
      "3024\n",
      "3031\n",
      "3038\n",
      "3052\n",
      "3059\n",
      "3066\n",
      "3073\n",
      "3087\n",
      "3094\n",
      "3101\n",
      "3108\n",
      "3122\n",
      "3129\n",
      "3136\n",
      "3143\n",
      "3157\n",
      "3164\n",
      "3171\n",
      "3178\n",
      "3192\n",
      "3199\n"
     ]
    }
   ],
   "source": [
    "# Write a program in Python which will find all such numbers which are divisible  by 7 but are not a multiple of 5, between 2000 and 3200.\n",
    "\n",
    "z = 2000\n",
    "while z < 3201:\n",
    "    if z % 7 == 0 and z % 5 != 0:\n",
    "        print(z)\n",
    "    z += 1\n"
   ]
  },
  {
   "cell_type": "code",
   "execution_count": 6,
   "metadata": {},
   "outputs": [
    {
     "name": "stdout",
     "output_type": "stream",
     "text": [
      "0\n",
      "1\n",
      "2\n",
      "3\n",
      "4\n"
     ]
    },
    {
     "ename": "NameError",
     "evalue": "name 'Break' is not defined",
     "output_type": "error",
     "traceback": [
      "\u001b[1;31m---------------------------------------------------------------------------\u001b[0m",
      "\u001b[1;31mNameError\u001b[0m                                 Traceback (most recent call last)",
      "\u001b[1;32m<ipython-input-6-9491dbaabf2d>\u001b[0m in \u001b[0;36m<module>\u001b[1;34m\u001b[0m\n\u001b[0;32m     24\u001b[0m     \u001b[0mcount\u001b[0m \u001b[1;33m+=\u001b[0m \u001b[1;36m1\u001b[0m\u001b[1;33m\u001b[0m\u001b[1;33m\u001b[0m\u001b[0m\n\u001b[0;32m     25\u001b[0m     \u001b[1;32mif\u001b[0m \u001b[0mcount\u001b[0m \u001b[1;33m>=\u001b[0m \u001b[1;36m5\u001b[0m\u001b[1;33m:\u001b[0m\u001b[1;33m\u001b[0m\u001b[1;33m\u001b[0m\u001b[0m\n\u001b[1;32m---> 26\u001b[1;33m         \u001b[0mBreak\u001b[0m\u001b[1;33m\u001b[0m\u001b[1;33m\u001b[0m\u001b[0m\n\u001b[0m",
      "\u001b[1;31mNameError\u001b[0m: name 'Break' is not defined"
     ]
    }
   ],
   "source": [
    "# 6. What is the output of the following code examples?\n",
    "   x=123 \n",
    "    for i in x:\n",
    "            print(i)\n",
    "            \n",
    "            \n",
    "Answer: Throws an error\n",
    "\n",
    "\n",
    "i = 0\n",
    "while i < 5:\n",
    "    print(i)\n",
    "    i += 1\n",
    "    if i == 3:\n",
    "        break\n",
    "    else:\n",
    "        print(“error”)\n",
    "Answer: \n",
    "0\n",
    "error\n",
    "1\n",
    "error\n",
    "2\n",
    "\n",
    "\n",
    "count = 0\n",
    "while True:\n",
    "    print(count)\n",
    "    count += 1\n",
    "    if count >= 5:\n",
    "        Break\n",
    "Answer:\n",
    "0\n",
    "1\n",
    "2\n",
    "3\n",
    "4\n"
   ]
  },
  {
   "cell_type": "code",
   "execution_count": 7,
   "metadata": {},
   "outputs": [],
   "source": [
    "# Write a program that prints all the numbers from 0 to 6 except 3 and 6.\n",
    "#        Expected output: 0 1 2 4 5\n",
    "# Note: Use ‘continue’ statement\n",
    "\n",
    "for a in range(0, 7):\n",
    "    if a == 3 or a == 6:\n",
    "        continue\n",
    "    print(a)"
   ]
  },
  {
   "cell_type": "code",
   "execution_count": 7,
   "metadata": {},
   "outputs": [
    {
     "name": "stdout",
     "output_type": "stream",
     "text": [
      "Enter the string with numbers: consul12\n",
      "Letters: 6 Digits:  2\n"
     ]
    }
   ],
   "source": [
    "# 8.  Write a program that accepts a string as an input from user and calculate the number of digits and letters.\n",
    "#      Expected output: consul12\n",
    "#      Letters 6\n",
    "#      Digits 2\n",
    "\n",
    "a = input(\"Enter the string with numbers: \")\n",
    "digits = 0\n",
    "letters = 0\n",
    "for i in a:\n",
    "    if i.isdigit():\n",
    "        digits+=1\n",
    "    else:\n",
    "        letters+=1\n",
    "        continue\n",
    "print(\"Letters:\" , letters, \"Digits: \", digits)\n",
    "\n"
   ]
  },
  {
   "cell_type": "code",
   "execution_count": null,
   "metadata": {},
   "outputs": [],
   "source": [
    "# 9. Read the two parts of the question below: \n",
    "#  Write a program such that it asks users to “guess the lucky number”. If the correct number is guessed the program stops, otherwise it continues forever. \n",
    "\n",
    "b = 60 \n",
    "a = int(input(\"Guess the lucky number: \")) \n",
    "while a!=b: \n",
    "    if a < 0 or b > 59: \n",
    "        print(\"Guess Again\") \n",
    "    a = int(input()) \n",
    "    continue \n",
    "print(\"Good guess! \")\n",
    "\n",
    "# Modify the program so that it asks users whether they want to guess again each time. Use two variables, ‘number’ for the number and ‘answer’ for the answer to the question whether they want to continue guessing. The program stops if the user guesses the correct number or answers “no”. ( The program continues as long as a user has not answered “no” and has not guessed the correct number)\n",
    "\n",
    "b = 60\n",
    "a = int(input(\"Guess the lucky number: \"))\n",
    "while a != b:\n",
    "    if a < 0 or b > 59:\n",
    "        c = int(input(\"do you want to guess again? If you want to press 1 or 2:\"))\n",
    "        if c == 1:\n",
    "            a = int(input(\"Guess Again: \"))\n",
    "        elif c == 2:\n",
    "            print(\"You Tried! and it's 60\")\n",
    "            break\n",
    "print(\"Good Guess!\")\n"
   ]
  },
  {
   "cell_type": "code",
   "execution_count": null,
   "metadata": {},
   "outputs": [
    {
     "name": "stdout",
     "output_type": "stream",
     "text": [
      "Guess the lucky number6\n",
      "Try again!\n",
      "Guess the lucky number7\n",
      "Try again!\n",
      "Guess the lucky number8\n",
      "Try again!\n"
     ]
    }
   ],
   "source": [
    "# 10. Write a program that asks five times to guess the lucky number. Use a while loop and a counter, such as\n",
    "#            counter=1\n",
    "# \t\tWhile counter <= 5:\n",
    "# \t\t\tprint(“Type in the”, counter, “number”\n",
    "# \t\t\tcounter=counter+1\n",
    "# The program asks for five guesses (no matter whether the correct number was guessed or not). If the correct number is guessed, the program outputs “Good guess!”, otherwise it outputs “Try again!”. After the fifth guess it stops and prints “Game over!”.\n",
    "\n",
    "a=25\n",
    "count=1\n",
    "while count<=5:\n",
    "    b=int(input(\"Guess the lucky number\"))\n",
    "    if b==a:\n",
    "        print(\"Good guess\")\n",
    "        print(\"Entered number is correct\",a)\n",
    "        break\n",
    "    else:\n",
    "        print(\"Try again!\")\n",
    "        count+=1\n",
    "        \n",
    "print(\"Game Over\")\n"
   ]
  },
  {
   "cell_type": "code",
   "execution_count": null,
   "metadata": {},
   "outputs": [],
   "source": [
    "# 11. In the previous question, insert “break” after the “Good guess!” print statement. “break” will terminate the while loop so that users do not have to continue guessing after they found the number. If the user does not guess the number at all, print “Sorry but that was not very successful”.\n",
    "\n",
    "a = 25\n",
    "count = 1\n",
    "while count <= 4:\n",
    "    b = int(input(\"Guess the lucky number: \"))\n",
    "    if (b == a):\n",
    "        print(\"Good guess!\")\n",
    "        break\n",
    "        print(\"Entered number is correct\", a)\n",
    "    else:\n",
    "        print(\"Try again!\")\n",
    "        count += 1\n",
    "while count == 5:\n",
    "    print(\"Sorry but that was not very successful\")\n",
    "    break"
   ]
  }
 ],
 "metadata": {
  "kernelspec": {
   "display_name": "Python 3",
   "language": "python",
   "name": "python3"
  },
  "language_info": {
   "codemirror_mode": {
    "name": "ipython",
    "version": 3
   },
   "file_extension": ".py",
   "mimetype": "text/x-python",
   "name": "python",
   "nbconvert_exporter": "python",
   "pygments_lexer": "ipython3",
   "version": "3.7.6"
  }
 },
 "nbformat": 4,
 "nbformat_minor": 4
}
